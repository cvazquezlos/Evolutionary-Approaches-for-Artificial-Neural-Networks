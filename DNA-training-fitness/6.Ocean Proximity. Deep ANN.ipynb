{
 "cells": [
  {
   "cell_type": "markdown",
   "metadata": {},
   "source": [
    "# Ocean Proximity with deep artificial neural networks"
   ]
  },
  {
   "cell_type": "markdown",
   "metadata": {},
   "source": [
    "The vanishing gradient problem: cumulative back-propagated error signals either shrink rapidly, or grow out of bounds. They decay exponentially in the number of layers, or they explode. The result is that the final trained network converges to a poor local minimum."
   ]
  },
  {
   "cell_type": "markdown",
   "metadata": {},
   "source": [
    "Activation (non-linear) functions that do not saturate:<br>\n",
    "Rectifier Linear Unit, ReLU: $y=max(0,x)$, $y \\in [0,\\infty]$, learning rate $\\alpha \\rightarrow 0$<br>\n",
    "Leaky ReLU: $y=max(s·x,x)$ , typically $s=0.01$<br>\n",
    "Exponential Linear Unit, ELU: $y=s(e^{x}-1$), usually $s=1$. if $s=1$, then $y \\in [-1,\\infty]$ "
   ]
  },
  {
   "cell_type": "code",
   "execution_count": 1,
   "metadata": {},
   "outputs": [],
   "source": [
    "import numpy as np\n",
    "import pandas as pd\n",
    "import tensorflow as tf\n",
    "import matplotlib.pyplot as plt\n",
    "from tqdm import tqdm"
   ]
  },
  {
   "cell_type": "code",
   "execution_count": 2,
   "metadata": {},
   "outputs": [
    {
     "name": "stdout",
     "output_type": "stream",
     "text": [
      "x_train: (16342, 9)\n",
      "t_train: (16342, 4)\n",
      "x_dev: (2043, 9)\n",
      "t_dev: (2043, 4)\n",
      "x_test: (2043, 9)\n",
      "t_test: (2043, 4)\n"
     ]
    }
   ],
   "source": [
    "%run 1.ReadingData.py"
   ]
  },
  {
   "cell_type": "markdown",
   "metadata": {},
   "source": [
    "## Initialization"
   ]
  },
  {
   "cell_type": "code",
   "execution_count": 3,
   "metadata": {},
   "outputs": [],
   "source": [
    "INPUTS = x_train.shape[1]\n",
    "OUTPUTS = t_train.shape[1]\n",
    "NUM_TRAINING_EXAMPLES = int(round(x_train.shape[0]/2))\n",
    "NUM_DEV_EXAMPLES = int (round (x_dev.shape[0]/2))"
   ]
  },
  {
   "cell_type": "markdown",
   "metadata": {},
   "source": [
    "Some data is displayed to test correctness:"
   ]
  },
  {
   "cell_type": "code",
   "execution_count": 4,
   "metadata": {},
   "outputs": [
    {
     "data": {
      "text/plain": [
       "9"
      ]
     },
     "execution_count": 4,
     "metadata": {},
     "output_type": "execute_result"
    }
   ],
   "source": [
    "INPUTS"
   ]
  },
  {
   "cell_type": "code",
   "execution_count": 5,
   "metadata": {
    "scrolled": true
   },
   "outputs": [
    {
     "data": {
      "text/plain": [
       "4"
      ]
     },
     "execution_count": 5,
     "metadata": {},
     "output_type": "execute_result"
    }
   ],
   "source": [
    "OUTPUTS"
   ]
  },
  {
   "cell_type": "code",
   "execution_count": 6,
   "metadata": {},
   "outputs": [
    {
     "data": {
      "text/plain": [
       "8171"
      ]
     },
     "execution_count": 6,
     "metadata": {},
     "output_type": "execute_result"
    }
   ],
   "source": [
    "NUM_TRAINING_EXAMPLES"
   ]
  },
  {
   "cell_type": "code",
   "execution_count": 7,
   "metadata": {},
   "outputs": [
    {
     "data": {
      "text/plain": [
       "1022"
      ]
     },
     "execution_count": 7,
     "metadata": {},
     "output_type": "execute_result"
    }
   ],
   "source": [
    "NUM_DEV_EXAMPLES"
   ]
  },
  {
   "cell_type": "code",
   "execution_count": 8,
   "metadata": {},
   "outputs": [
    {
     "data": {
      "text/plain": [
       "array([[-0.94023904,  0.76620616,  0.17647059, -0.8773081 , -0.86747362,\n",
       "        -0.94383251, -0.86844269, -0.58404712, -0.472163  ],\n",
       "       [-0.56972112,  0.47927736, -0.1372549 , -0.97660105, -0.97020484,\n",
       "        -0.98553771, -0.9707285 , -0.76957559, -0.84329549],\n",
       "       [ 0.42430279, -0.75345377, -0.1372549 , -0.67846788, -0.62911235,\n",
       "        -0.88895429, -0.63065285, -0.74790693, -0.68082193],\n",
       "       [-0.0438247 , -0.11370882,  0.21568627, -0.90024925, -0.84264432,\n",
       "        -0.88514252, -0.82996218, -0.80583716, -0.83174915],\n",
       "       [ 0.02191235, -0.65143464, -0.37254902, -0.83061193, -0.7638113 ,\n",
       "        -0.89943664, -0.77898372, -0.45803506, -0.10845316]])"
      ]
     },
     "execution_count": 8,
     "metadata": {},
     "output_type": "execute_result"
    }
   ],
   "source": [
    "x_train[:5]"
   ]
  },
  {
   "cell_type": "code",
   "execution_count": 9,
   "metadata": {},
   "outputs": [
    {
     "data": {
      "text/plain": [
       "array([[0., 0., 0., 1.],\n",
       "       [0., 1., 0., 0.],\n",
       "       [1., 0., 0., 0.],\n",
       "       [0., 1., 0., 0.],\n",
       "       [0., 0., 0., 1.]])"
      ]
     },
     "execution_count": 9,
     "metadata": {},
     "output_type": "execute_result"
    }
   ],
   "source": [
    "t_train[:5]"
   ]
  },
  {
   "cell_type": "code",
   "execution_count": 10,
   "metadata": {},
   "outputs": [
    {
     "data": {
      "text/plain": [
       "array([[-0.58565737,  0.12008502,  0.52941176, -0.95533852, -0.8603352 ,\n",
       "        -0.96754393, -0.87534945, -0.93419401, -0.5719564 ],\n",
       "       [ 0.33067729, -0.78746015, -0.45098039, -0.8768503 , -0.86530106,\n",
       "        -0.92359651, -0.86120704, -0.39439456, -0.31216366],\n",
       "       [-0.59163347,  0.06057386,  0.64705882, -0.91118572, -0.88671633,\n",
       "        -0.94500967, -0.87830949, -0.4466697 ,  0.33113266],\n",
       "       [ 0.23904382, -0.68119022,  0.60784314, -0.88793937, -0.8603352 ,\n",
       "        -0.92213907, -0.86120704, -0.46694528, -0.19010231],\n",
       "       [-0.56374502,  0.09670563,  0.37254902, -0.91266087, -0.9062694 ,\n",
       "        -0.95330587, -0.89804309, -0.45689025, -0.26391644]])"
      ]
     },
     "execution_count": 10,
     "metadata": {},
     "output_type": "execute_result"
    }
   ],
   "source": [
    "x_dev[:5]"
   ]
  },
  {
   "cell_type": "code",
   "execution_count": 11,
   "metadata": {},
   "outputs": [
    {
     "data": {
      "text/plain": [
       "array([[0., 0., 1., 0.],\n",
       "       [1., 0., 0., 0.],\n",
       "       [0., 0., 0., 1.],\n",
       "       [1., 0., 0., 0.],\n",
       "       [0., 0., 1., 0.]])"
      ]
     },
     "execution_count": 11,
     "metadata": {},
     "output_type": "execute_result"
    }
   ],
   "source": [
    "t_dev[:5]"
   ]
  },
  {
   "cell_type": "markdown",
   "metadata": {},
   "source": [
    "## Hyperparameters"
   ]
  },
  {
   "cell_type": "markdown",
   "metadata": {},
   "source": [
    "The number of hidden layers and neurons per layer must be adjusted."
   ]
  },
  {
   "cell_type": "code",
   "execution_count": 12,
   "metadata": {},
   "outputs": [],
   "source": [
    "n_epochs = 500 \n",
    "learning_rate = 0.1\n",
    "batch_size = 200\n",
    "n_neurons_per_layer = [150,75,25,10] "
   ]
  },
  {
   "cell_type": "code",
   "execution_count": 13,
   "metadata": {},
   "outputs": [
    {
     "data": {
      "text/plain": [
       "'An epoch comprises 41 iterations'"
      ]
     },
     "execution_count": 13,
     "metadata": {},
     "output_type": "execute_result"
    }
   ],
   "source": [
    "\"An epoch comprises \" + str(int(NUM_TRAINING_EXAMPLES/batch_size)+1) + \" iterations\""
   ]
  },
  {
   "cell_type": "code",
   "execution_count": 14,
   "metadata": {},
   "outputs": [
    {
     "data": {
      "text/plain": [
       "20500"
      ]
     },
     "execution_count": 14,
     "metadata": {},
     "output_type": "execute_result"
    }
   ],
   "source": [
    "n_learning_iterations = (int(NUM_TRAINING_EXAMPLES/batch_size)+1)*n_epochs\n",
    "n_learning_iterations"
   ]
  },
  {
   "cell_type": "markdown",
   "metadata": {},
   "source": [
    "## Build the model: a 8-150-75-25-10-10 deep neural network architecture"
   ]
  },
  {
   "cell_type": "code",
   "execution_count": 15,
   "metadata": {},
   "outputs": [],
   "source": [
    "X = tf.placeholder (dtype=tf.float32, shape=(None,INPUTS),name=\"X\")\n",
    "t = tf.placeholder (dtype=tf.float32, shape=(None,OUTPUTS), name=\"t\")"
   ]
  },
  {
   "cell_type": "markdown",
   "metadata": {},
   "source": [
    "The deep neural network topology is defined: a full-connected 8-100-50-25-10-10 architecture. The <b>ReLU</b> activation function is chosen for the hidden layers and linear logits with <b>softmax for the ouput layer</b>. "
   ]
  },
  {
   "cell_type": "code",
   "execution_count": 16,
   "metadata": {},
   "outputs": [],
   "source": [
    "hidden_layers = []\n",
    "hidden_layers.append(tf.layers.dense (X, n_neurons_per_layer[0], activation = tf.nn.relu))\n",
    "for layer in range(1,len(n_neurons_per_layer)):\n",
    "    hidden_layers.append(tf.layers.dense (hidden_layers[layer-1], \n",
    "                                          n_neurons_per_layer[layer], activation = tf.nn.relu))\n",
    "net_out = tf.layers.dense (hidden_layers[len(n_neurons_per_layer)-1], OUTPUTS)\n",
    "y = tf.nn.softmax (logits=net_out, name=\"y\")"
   ]
  },
  {
   "cell_type": "code",
   "execution_count": 17,
   "metadata": {},
   "outputs": [
    {
     "name": "stdout",
     "output_type": "stream",
     "text": [
      "Tensor(\"dense/Relu:0\", shape=(?, 150), dtype=float32)\n",
      "Tensor(\"dense_1/Relu:0\", shape=(?, 75), dtype=float32)\n",
      "Tensor(\"dense_2/Relu:0\", shape=(?, 25), dtype=float32)\n",
      "Tensor(\"dense_3/Relu:0\", shape=(?, 10), dtype=float32)\n"
     ]
    }
   ],
   "source": [
    "for layer in range(len(n_neurons_per_layer)): print (hidden_layers[layer])"
   ]
  },
  {
   "cell_type": "markdown",
   "metadata": {},
   "source": [
    "The $log-loss$, $cross-entropy$ (the sun of log-loss is a loss) and and $cost$ (the mean of cross-entropy) functions:"
   ]
  },
  {
   "cell_type": "code",
   "execution_count": 18,
   "metadata": {},
   "outputs": [],
   "source": [
    "cross_entropy = tf.nn.softmax_cross_entropy_with_logits_v2 (labels=t, logits=net_out)\n",
    "mean_log_loss = tf.reduce_mean (cross_entropy, name=\"cost\")"
   ]
  },
  {
   "cell_type": "markdown",
   "metadata": {},
   "source": [
    "The training algorithm: gradient descent method with a softmax function at the outputs:"
   ]
  },
  {
   "cell_type": "code",
   "execution_count": 19,
   "metadata": {},
   "outputs": [],
   "source": [
    "train_step = tf.train.GradientDescentOptimizer (learning_rate).minimize(mean_log_loss)"
   ]
  },
  {
   "cell_type": "markdown",
   "metadata": {},
   "source": [
    "Model evaluation: accuracy. The percentage of correctly classified instances."
   ]
  },
  {
   "cell_type": "code",
   "execution_count": 20,
   "metadata": {},
   "outputs": [],
   "source": [
    "correct_predictions = tf.equal(tf.argmax(y,1),tf.argmax(t,1))\n",
    "accuracy = tf.reduce_mean(tf.cast(correct_predictions,tf.float32))"
   ]
  },
  {
   "cell_type": "markdown",
   "metadata": {},
   "source": [
    "## Execute the model MBDG"
   ]
  },
  {
   "cell_type": "code",
   "execution_count": 21,
   "metadata": {},
   "outputs": [
    {
     "name": "stderr",
     "output_type": "stream",
     "text": [
      "100%|██████████| 20500/20500 [04:47<00:00, 71.36it/s]\n"
     ]
    }
   ],
   "source": [
    "init = tf.global_variables_initializer()\n",
    "accuracy_train_history = []\n",
    "with tf.Session() as sess:\n",
    "    sess.run(init)\n",
    "    for iteration in tqdm(range(n_learning_iterations)):\n",
    "        offset = (iteration * batch_size) % (NUM_TRAINING_EXAMPLES - batch_size)\n",
    "        sess.run (train_step, feed_dict={X: x_train[offset:(offset+batch_size)],\n",
    "                                         t: t_train[offset:(offset+batch_size)]})\n",
    "        accuracy_train_history.append (accuracy.eval(feed_dict=\n",
    "                                {X: x_train[offset:(offset+batch_size)],\n",
    "                                 t: t_train[offset:(offset+batch_size)]}))\n",
    "    accuracy_train = accuracy.eval(feed_dict={X: x_train[:NUM_TRAINING_EXAMPLES],\n",
    "                                              t: t_train[:NUM_TRAINING_EXAMPLES]})\n",
    "    accuracy_dev = accuracy.eval(feed_dict={X: x_dev[:NUM_DEV_EXAMPLES],\n",
    "                                              t: t_dev[:NUM_DEV_EXAMPLES]})\n",
    "    predictions = y.eval(feed_dict={X: x_dev[:NUM_DEV_EXAMPLES]})\n",
    "    final_correct_preditions = correct_predictions.eval (feed_dict=\n",
    "                                    {X: x_dev[:NUM_DEV_EXAMPLES],\n",
    "                                     t: t_dev[:NUM_DEV_EXAMPLES]})\n",
    "    final_train_mean_log_loss = mean_log_loss.eval (feed_dict=\n",
    "                                            {X: x_train[:NUM_TRAINING_EXAMPLES],\n",
    "                                              t: t_train[:NUM_TRAINING_EXAMPLES]})\n",
    "    final_dev_mean_log_loss = mean_log_loss.eval (feed_dict=\n",
    "                                            {X: x_dev[:NUM_DEV_EXAMPLES],\n",
    "                                              t: t_dev[:NUM_DEV_EXAMPLES]})"
   ]
  },
  {
   "cell_type": "code",
   "execution_count": 22,
   "metadata": {},
   "outputs": [
    {
     "data": {
      "text/plain": [
       "'Final accuracy in training: 0.92118466'"
      ]
     },
     "execution_count": 22,
     "metadata": {},
     "output_type": "execute_result"
    }
   ],
   "source": [
    "\"Final accuracy in training: \" + str(accuracy_train)"
   ]
  },
  {
   "cell_type": "code",
   "execution_count": 23,
   "metadata": {},
   "outputs": [
    {
     "data": {
      "text/plain": [
       "'Maximum accuracy in training: 1.0'"
      ]
     },
     "execution_count": 23,
     "metadata": {},
     "output_type": "execute_result"
    }
   ],
   "source": [
    "\"Maximum accuracy in training: \" + str(np.max(accuracy_train_history))"
   ]
  },
  {
   "cell_type": "code",
   "execution_count": 24,
   "metadata": {},
   "outputs": [
    {
     "data": {
      "text/plain": [
       "'Accuracy for the development set: 0.90508807'"
      ]
     },
     "execution_count": 24,
     "metadata": {},
     "output_type": "execute_result"
    }
   ],
   "source": [
    "\"Accuracy for the development set: \" + str(accuracy_dev)"
   ]
  },
  {
   "cell_type": "code",
   "execution_count": 25,
   "metadata": {
    "scrolled": true
   },
   "outputs": [
    {
     "data": {
      "text/plain": [
       "[<matplotlib.lines.Line2D at 0xb29a191d0>]"
      ]
     },
     "execution_count": 25,
     "metadata": {},
     "output_type": "execute_result"
    },
    {
     "data": {
      "image/png": "[encoded data removed]",
      "text/plain": [
       "<Figure size 432x288 with 1 Axes>"
      ]
     },
     "metadata": {
      "needs_background": "light"
     },
     "output_type": "display_data"
    }
   ],
   "source": [
    "plt.title (\"Accuracy Evolution\")\n",
    "plt.xlabel (\"Epochs\")\n",
    "plt.ylabel (\"Accuracy\")\n",
    "plt.plot (range(n_learning_iterations),accuracy_train_history)"
   ]
  },
  {
   "cell_type": "code",
   "execution_count": 26,
   "metadata": {},
   "outputs": [
    {
     "data": {
      "text/plain": [
       "array([[5.7494499e-06, 6.0935776e-08, 9.9999416e-01, 8.0232887e-10],\n",
       "       [9.9843246e-01, 1.9799252e-05, 1.5515805e-07, 1.5476637e-03],\n",
       "       [2.1499705e-03, 4.2811735e-07, 7.5784199e-02, 9.2206538e-01],\n",
       "       ...,\n",
       "       [6.7624044e-01, 8.8831521e-06, 4.5407796e-06, 3.2374614e-01],\n",
       "       [4.4909818e-15, 1.0000000e+00, 2.5938706e-16, 2.3187374e-22],\n",
       "       [9.9916983e-01, 7.3699804e-04, 9.1993015e-06, 8.3979874e-05]],\n",
       "      dtype=float32)"
      ]
     },
     "execution_count": 26,
     "metadata": {},
     "output_type": "execute_result"
    }
   ],
   "source": [
    "predictions"
   ]
  },
  {
   "cell_type": "code",
   "execution_count": 27,
   "metadata": {},
   "outputs": [
    {
     "data": {
      "text/plain": [
       "array([[0., 0., 1., 0.],\n",
       "       [1., 0., 0., 0.],\n",
       "       [0., 0., 0., 1.],\n",
       "       [1., 0., 0., 0.],\n",
       "       [0., 0., 1., 0.],\n",
       "       [0., 0., 1., 0.],\n",
       "       [0., 1., 0., 0.],\n",
       "       [1., 0., 0., 0.],\n",
       "       [0., 0., 1., 0.],\n",
       "       [0., 0., 0., 1.]], dtype=float32)"
      ]
     },
     "execution_count": 27,
     "metadata": {},
     "output_type": "execute_result"
    }
   ],
   "source": [
    "rounded_predictions=np.round(predictions)\n",
    "indices = np.argmax(predictions,1)\n",
    "for row, index in zip(rounded_predictions, indices): row[index]=1\n",
    "rounded_predictions[:10]"
   ]
  },
  {
   "cell_type": "code",
   "execution_count": 28,
   "metadata": {},
   "outputs": [
    {
     "data": {
      "text/plain": [
       "array([[0., 0., 1., 0.],\n",
       "       [1., 0., 0., 0.],\n",
       "       [0., 0., 0., 1.],\n",
       "       [1., 0., 0., 0.],\n",
       "       [0., 0., 1., 0.],\n",
       "       [0., 0., 1., 0.],\n",
       "       [0., 1., 0., 0.],\n",
       "       [0., 0., 0., 1.],\n",
       "       [0., 0., 1., 0.],\n",
       "       [0., 0., 0., 1.]])"
      ]
     },
     "execution_count": 28,
     "metadata": {},
     "output_type": "execute_result"
    }
   ],
   "source": [
    "t_dev[:10] #target classes"
   ]
  },
  {
   "cell_type": "code",
   "execution_count": 29,
   "metadata": {},
   "outputs": [
    {
     "data": {
      "text/plain": [
       "array([ True,  True,  True,  True,  True,  True,  True, False,  True,\n",
       "        True])"
      ]
     },
     "execution_count": 29,
     "metadata": {},
     "output_type": "execute_result"
    }
   ],
   "source": [
    "final_correct_preditions[:10]"
   ]
  },
  {
   "cell_type": "code",
   "execution_count": 30,
   "metadata": {},
   "outputs": [
    {
     "data": {
      "text/plain": [
       "0.19468515"
      ]
     },
     "execution_count": 30,
     "metadata": {},
     "output_type": "execute_result"
    }
   ],
   "source": [
    "final_train_mean_log_loss"
   ]
  },
  {
   "cell_type": "code",
   "execution_count": 31,
   "metadata": {},
   "outputs": [
    {
     "data": {
      "text/plain": [
       "0.26252657"
      ]
     },
     "execution_count": 31,
     "metadata": {},
     "output_type": "execute_result"
    }
   ],
   "source": [
    "final_dev_mean_log_loss"
   ]
  },
  {
   "cell_type": "markdown",
   "metadata": {},
   "source": [
    "<b>Train accuracy has been raised to 92% and dev accuracy is now 91%</b>. Note that 9 out of the first ten development examples are correctly classified. Better results have been achieved using 260 hidden neurons than using a one-hidden layer of 400 units. Time spent is nearly 91%., yet mini-batch gradient descent has been applied. Here again the need of a GPU. "
   ]
  }
 ],
 "metadata": {
  "kernelspec": {
   "display_name": "Python 3",
   "language": "python",
   "name": "python3"
  },
  "language_info": {
   "codemirror_mode": {
    "name": "ipython",
    "version": 3
   },
   "file_extension": ".py",
   "mimetype": "text/x-python",
   "name": "python",
   "nbconvert_exporter": "python",
   "pygments_lexer": "ipython3",
   "version": "3.6.5"
  }
 },
 "nbformat": 4,
 "nbformat_minor": 2
}
