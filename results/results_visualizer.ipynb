{
 "cells": [
  {
   "cell_type": "code",
   "execution_count": 1,
   "metadata": {},
   "outputs": [],
   "source": [
    "import pandas as pd"
   ]
  },
  {
   "cell_type": "code",
   "execution_count": 35,
   "metadata": {},
   "outputs": [],
   "source": [
    "def read_df(url, sep):\n",
    "    return pd.read_csv(url, sep = \";\")"
   ]
  },
  {
   "cell_type": "code",
   "execution_count": 37,
   "metadata": {},
   "outputs": [
    {
     "data": {
      "text/html": [
       "<div>\n",
       "<style scoped>\n",
       "    .dataframe tbody tr th:only-of-type {\n",
       "        vertical-align: middle;\n",
       "    }\n",
       "\n",
       "    .dataframe tbody tr th {\n",
       "        vertical-align: top;\n",
       "    }\n",
       "\n",
       "    .dataframe thead th {\n",
       "        text-align: right;\n",
       "    }\n",
       "</style>\n",
       "<table border=\"1\" class=\"dataframe\">\n",
       "  <thead>\n",
       "    <tr style=\"text-align: right;\">\n",
       "      <th></th>\n",
       "      <th>gp_plot_data</th>\n",
       "      <th>sol_train_accuracy</th>\n",
       "      <th>sol_validation_accuracy</th>\n",
       "      <th>sol_test_accuracy</th>\n",
       "      <th>sol_nn_architecture</th>\n",
       "      <th>sol_model_name</th>\n",
       "      <th>sol_plot_data</th>\n",
       "      <th>exec_time</th>\n",
       "    </tr>\n",
       "  </thead>\n",
       "  <tbody>\n",
       "    <tr>\n",
       "      <th>0</th>\n",
       "      <td>[[\\[{\\\\\"gen_no\\\\\":1,\\\\\"pop_train\\\\\":0.9017,\\\\\"...</td>\n",
       "      <td>0.580952</td>\n",
       "      <td>0.7</td>\n",
       "      <td>0.533333</td>\n",
       "      <td>4:3:3</td>\n",
       "      <td>../results/models/iris_model_0.h5</td>\n",
       "      <td>[{\\epoch\\\":1,\\\"value\\\":1.1055,\\\"metric\\\":\\\"los...</td>\n",
       "      <td>17.239584</td>\n",
       "    </tr>\n",
       "  </tbody>\n",
       "</table>\n",
       "</div>"
      ],
      "text/plain": [
       "                                        gp_plot_data  sol_train_accuracy  \\\n",
       "0  [[\\[{\\\\\"gen_no\\\\\":1,\\\\\"pop_train\\\\\":0.9017,\\\\\"...            0.580952   \n",
       "\n",
       "   sol_validation_accuracy  sol_test_accuracy sol_nn_architecture  \\\n",
       "0                      0.7           0.533333               4:3:3   \n",
       "\n",
       "                      sol_model_name  \\\n",
       "0  ../results/models/iris_model_0.h5   \n",
       "\n",
       "                                       sol_plot_data  exec_time  \n",
       "0  [{\\epoch\\\":1,\\\"value\\\":1.1055,\\\"metric\\\":\\\"los...  17.239584  "
      ]
     },
     "execution_count": 37,
     "metadata": {},
     "output_type": "execute_result"
    }
   ],
   "source": [
    "results = read_df('./iris.csv', ';')\n",
    "results"
   ]
  },
  {
   "cell_type": "code",
   "execution_count": 29,
   "metadata": {},
   "outputs": [
    {
     "data": {
      "text/plain": [
       "'10.600593551'"
      ]
     },
     "execution_count": 29,
     "metadata": {},
     "output_type": "execute_result"
    }
   ],
   "source": []
  }
 ],
 "metadata": {
  "kernelspec": {
   "display_name": "Python 3",
   "language": "python",
   "name": "python3"
  },
  "language_info": {
   "codemirror_mode": {
    "name": "ipython",
    "version": 3
   },
   "file_extension": ".py",
   "mimetype": "text/x-python",
   "name": "python",
   "nbconvert_exporter": "python",
   "pygments_lexer": "ipython3",
   "version": "3.6.5"
  }
 },
 "nbformat": 4,
 "nbformat_minor": 2
}
