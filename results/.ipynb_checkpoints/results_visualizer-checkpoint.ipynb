{
 "cells": [
  {
   "cell_type": "code",
   "execution_count": 1,
   "metadata": {},
   "outputs": [],
   "source": [
    "import pandas as pd"
   ]
  },
  {
   "cell_type": "code",
   "execution_count": 19,
   "metadata": {},
   "outputs": [],
   "source": [
    "def read_df(url, sep):\n",
    "    return pd.read_csv(url, sep = \";\", delimiter=\";\")"
   ]
  },
  {
   "cell_type": "code",
   "execution_count": 20,
   "metadata": {},
   "outputs": [
    {
     "data": {
      "text/html": [
       "<div>\n",
       "<style scoped>\n",
       "    .dataframe tbody tr th:only-of-type {\n",
       "        vertical-align: middle;\n",
       "    }\n",
       "\n",
       "    .dataframe tbody tr th {\n",
       "        vertical-align: top;\n",
       "    }\n",
       "\n",
       "    .dataframe thead th {\n",
       "        text-align: right;\n",
       "    }\n",
       "</style>\n",
       "<table border=\"1\" class=\"dataframe\">\n",
       "  <thead>\n",
       "    <tr style=\"text-align: right;\">\n",
       "      <th></th>\n",
       "      <th>gp_plot_data;sol_train_accuracy;sol_validation_accuracy;sol_test_accuracy;sol_nn_architecture;sol_model_name;sol_plot_data;exec_time</th>\n",
       "    </tr>\n",
       "  </thead>\n",
       "  <tbody>\n",
       "    <tr>\n",
       "      <th>0</th>\n",
       "      <td>[[\"[{\\\"gen_no\\\":1,\\\"pop_train\\\":1.0238,\\\"best_...</td>\n",
       "    </tr>\n",
       "    <tr>\n",
       "      <th>1</th>\n",
       "      <td>[[\"[{\\\"gen_no\\\":1,\\\"pop_train\\\":0.9523,\\\"best_...</td>\n",
       "    </tr>\n",
       "    <tr>\n",
       "      <th>2</th>\n",
       "      <td>[[\"[{\\\"gen_no\\\":1,\\\"pop_train\\\":1.1227,\\\"best_...</td>\n",
       "    </tr>\n",
       "    <tr>\n",
       "      <th>3</th>\n",
       "      <td>[[\"[{\\\"gen_no\\\":1,\\\"pop_train\\\":0.9947,\\\"best_...</td>\n",
       "    </tr>\n",
       "    <tr>\n",
       "      <th>4</th>\n",
       "      <td>[[\"[{\\\"gen_no\\\":1,\\\"pop_train\\\":1.0151,\\\"best_...</td>\n",
       "    </tr>\n",
       "    <tr>\n",
       "      <th>5</th>\n",
       "      <td>[[\\[{\\\\\"gen_no\\\\\":1,\\\\\"pop_train\\\\\":0.8975,\\\\\"...</td>\n",
       "    </tr>\n",
       "    <tr>\n",
       "      <th>6</th>\n",
       "      <td>[[\\[{\\\\\"gen_no\\\\\":1,\\\\\"pop_train\\\\\":1.0878,\\\\\"...</td>\n",
       "    </tr>\n",
       "    <tr>\n",
       "      <th>7</th>\n",
       "      <td>[[\\[{\\\\\"gen_no\\\\\":1,\\\\\"pop_train\\\\\":1.0602,\\\\\"...</td>\n",
       "    </tr>\n",
       "    <tr>\n",
       "      <th>8</th>\n",
       "      <td>[[\\[{\\\\\"gen_no\\\\\":1,\\\\\"pop_train\\\\\":1.0995,\\\\\"...</td>\n",
       "    </tr>\n",
       "    <tr>\n",
       "      <th>9</th>\n",
       "      <td>[[\\[{\\\\\"gen_no\\\\\":1,\\\\\"pop_train\\\\\":1.068,\\\\\"b...</td>\n",
       "    </tr>\n",
       "  </tbody>\n",
       "</table>\n",
       "</div>"
      ],
      "text/plain": [
       "  gp_plot_data;sol_train_accuracy;sol_validation_accuracy;sol_test_accuracy;sol_nn_architecture;sol_model_name;sol_plot_data;exec_time\n",
       "0  [[\"[{\\\"gen_no\\\":1,\\\"pop_train\\\":1.0238,\\\"best_...                                                                                  \n",
       "1  [[\"[{\\\"gen_no\\\":1,\\\"pop_train\\\":0.9523,\\\"best_...                                                                                  \n",
       "2  [[\"[{\\\"gen_no\\\":1,\\\"pop_train\\\":1.1227,\\\"best_...                                                                                  \n",
       "3  [[\"[{\\\"gen_no\\\":1,\\\"pop_train\\\":0.9947,\\\"best_...                                                                                  \n",
       "4  [[\"[{\\\"gen_no\\\":1,\\\"pop_train\\\":1.0151,\\\"best_...                                                                                  \n",
       "5  [[\\[{\\\\\"gen_no\\\\\":1,\\\\\"pop_train\\\\\":0.8975,\\\\\"...                                                                                  \n",
       "6  [[\\[{\\\\\"gen_no\\\\\":1,\\\\\"pop_train\\\\\":1.0878,\\\\\"...                                                                                  \n",
       "7  [[\\[{\\\\\"gen_no\\\\\":1,\\\\\"pop_train\\\\\":1.0602,\\\\\"...                                                                                  \n",
       "8  [[\\[{\\\\\"gen_no\\\\\":1,\\\\\"pop_train\\\\\":1.0995,\\\\\"...                                                                                  \n",
       "9  [[\\[{\\\\\"gen_no\\\\\":1,\\\\\"pop_train\\\\\":1.068,\\\\\"b...                                                                                  "
      ]
     },
     "execution_count": 20,
     "metadata": {},
     "output_type": "execute_result"
    }
   ],
   "source": [
    "results = read_df('./iris - copia.csv', ';')\n",
    "results"
   ]
  },
  {
   "cell_type": "code",
   "execution_count": 29,
   "metadata": {},
   "outputs": [
    {
     "data": {
      "text/plain": [
       "'10.600593551'"
      ]
     },
     "execution_count": 29,
     "metadata": {},
     "output_type": "execute_result"
    }
   ],
   "source": []
  }
 ],
 "metadata": {
  "kernelspec": {
   "display_name": "Python 3",
   "language": "python",
   "name": "python3"
  },
  "language_info": {
   "codemirror_mode": {
    "name": "ipython",
    "version": 3
   },
   "file_extension": ".py",
   "mimetype": "text/x-python",
   "name": "python",
   "nbconvert_exporter": "python",
   "pygments_lexer": "ipython3",
   "version": "3.6.5"
  }
 },
 "nbformat": 4,
 "nbformat_minor": 2
}
